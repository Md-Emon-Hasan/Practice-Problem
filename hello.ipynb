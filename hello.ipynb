{
 "cells": [
  {
   "cell_type": "code",
   "execution_count": 6,
   "metadata": {},
   "outputs": [],
   "source": [
    "import numpy as np\n",
    "import pandas as pd"
   ]
  },
  {
   "cell_type": "code",
   "execution_count": 7,
   "metadata": {},
   "outputs": [
    {
     "name": "stdout",
     "output_type": "stream",
     "text": [
      "1D Array:\n",
      "[1 2 3 4 5]\n",
      "\n",
      "2D Array:\n",
      "[[1 2 3]\n",
      " [4 5 6]]\n",
      "\n",
      "3D Array:\n",
      "[[[1 2]\n",
      "  [3 4]]\n",
      "\n",
      " [[5 6]\n",
      "  [7 8]]]\n",
      "\n",
      "Array of Zeros:\n",
      "[[0. 0. 0.]\n",
      " [0. 0. 0.]\n",
      " [0. 0. 0.]]\n",
      "\n",
      "Array of Ones:\n",
      "[[1. 1. 1. 1.]\n",
      " [1. 1. 1. 1.]]\n",
      "\n",
      "Range Array:\n",
      "[0 1 2 3 4 5 6 7 8 9]\n",
      "\n",
      "Linspace Array:\n",
      "[0.   0.25 0.5  0.75 1.  ]\n",
      "\n",
      "Random Array:\n",
      "[[0.90191711 0.27870981 0.54790157]\n",
      " [0.35712673 0.91499824 0.56648475]\n",
      " [0.85149083 0.81622794 0.69531051]]\n"
     ]
    }
   ],
   "source": [
    "import numpy as np\n",
    "\n",
    "# Create a 1D NumPy array\n",
    "array_1d = np.array([1, 2, 3, 4, 5])\n",
    "print(\"1D Array:\")\n",
    "print(array_1d)\n",
    "\n",
    "# Create a 2D NumPy array\n",
    "array_2d = np.array([[1, 2, 3], [4, 5, 6]])\n",
    "print(\"\\n2D Array:\")\n",
    "print(array_2d)\n",
    "\n",
    "# Create a 3D NumPy array\n",
    "array_3d = np.array([[[1, 2], [3, 4]], [[5, 6], [7, 8]]])\n",
    "print(\"\\n3D Array:\")\n",
    "print(array_3d)\n",
    "\n",
    "# Create an array filled with zeros\n",
    "zeros_array = np.zeros((3, 3))\n",
    "print(\"\\nArray of Zeros:\")\n",
    "print(zeros_array)\n",
    "\n",
    "# Create an array filled with ones\n",
    "ones_array = np.ones((2, 4))\n",
    "print(\"\\nArray of Ones:\")\n",
    "print(ones_array)\n",
    "\n",
    "# Create an array with a range of values\n",
    "range_array = np.arange(10)\n",
    "print(\"\\nRange Array:\")\n",
    "print(range_array)\n",
    "\n",
    "# Create an array with evenly spaced values\n",
    "linspace_array = np.linspace(0, 1, 5)\n",
    "print(\"\\nLinspace Array:\")\n",
    "print(linspace_array)\n",
    "\n",
    "# Create a random array\n",
    "random_array = np.random.rand(3, 3)\n",
    "print(\"\\nRandom Array:\")\n",
    "print(random_array)\n"
   ]
  }
 ],
 "metadata": {
  "kernelspec": {
   "display_name": "Python 3",
   "language": "python",
   "name": "python3"
  },
  "language_info": {
   "codemirror_mode": {
    "name": "ipython",
    "version": 3
   },
   "file_extension": ".py",
   "mimetype": "text/x-python",
   "name": "python",
   "nbconvert_exporter": "python",
   "pygments_lexer": "ipython3",
   "version": "3.11.4"
  },
  "orig_nbformat": 4
 },
 "nbformat": 4,
 "nbformat_minor": 2
}
